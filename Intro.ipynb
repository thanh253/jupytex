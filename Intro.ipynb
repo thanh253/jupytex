{
  "metadata": {
    "kernelspec": {
      "name": "python",
      "display_name": "Python (Pyodide)",
      "language": "python"
    },
    "language_info": {
      "codemirror_mode": {
        "name": "python",
        "version": 3
      },
      "file_extension": ".py",
      "mimetype": "text/x-python",
      "name": "python",
      "nbconvert_exporter": "python",
      "pygments_lexer": "ipython3",
      "version": "3.8"
    }
  },
  "nbformat_minor": 5,
  "nbformat": 4,
  "cells": [
    {
      "cell_type": "code",
      "source": "# Data Science Notebook Title",
      "metadata": {
        "trusted": true
      },
      "execution_count": 1,
      "outputs": [],
      "id": "878cab6f-34f2-4d05-8fd5-424cb459c487"
    },
    {
      "cell_type": "code",
      "source": "Welcome to this Data Science notebook! This notebook serves as a comprehensive guide to various aspects of data science, including languages, libraries, tools, and practical examples. Whether you're a beginner or an experienced data scientist, you'll find valuable information and code examples to help you on your data science journey.",
      "metadata": {
        "trusted": true
      },
      "execution_count": 1,
      "outputs": [],
      "id": "26c5928f-bc1b-4509-b01a-81d19e25f730"
    },
    {
      "cell_type": "code",
      "source": "-Python\n- R\n- Julia\n- SQL\n- Scala",
      "metadata": {},
      "execution_count": null,
      "outputs": [],
      "id": "e03c3194-86c9-4811-aaec-ee897e0d0b59"
    },
    {
      "cell_type": "code",
      "source": "- **Python Libraries:**\n  - NumPy\n  - pandas\n  - matplotlib\n  - seaborn\n  - scikit-learn\n  - TensorFlow\n  - PyTorch\n\n- **R Packages:**\n  - ggplot2\n  - dplyr\n  - tidyr\n  - caret\n  - xgboost\n  - glmnet",
      "metadata": {},
      "execution_count": null,
      "outputs": [],
      "id": "64fdc258-0257-49a8-97dd-cb2e25522fdc"
    },
    {
      "cell_type": "code",
      "source": "| Tool            | Description                                |\n|-----------------|--------------------------------------------|\n| **IDEs**        | Integrated Development Environments        |\n| Jupyter Notebook| Interactive notebooks for data analysis    |\n| RStudio         | IDE for R programming language              |\n| Visual Studio Code | Code editor with data science extensions |\n| **Databases**   | Database systems for data storage and retrieval |\n| MySQL           | Open-source relational database            |\n| PostgreSQL      | Powerful open-source relational database   |\n| MongoDB         | NoSQL database for unstructured data      |\n| **Visualization**| Tools for creating visualizations          |\n| Tableau         | Business intelligence and data visualization|\n| Matplotlib      | Python library for creating plots         |\n| ggplot2         | R package for creating statistical plots  |\n| **Machine Learning** | Frameworks for machine learning        |\n| scikit-learn    | Machine learning library for Python       |\n| TensorFlow      | Open-source machine learning framework     |\n| PyTorch         | Deep learning framework for Python         |",
      "metadata": {},
      "execution_count": null,
      "outputs": [],
      "id": "b4ee88ac-b64b-4453-87ce-a78043d95cdd"
    },
    {
      "cell_type": "code",
      "source": "Understanding arithmetic operations is fundamental in data science and mathematics. We will cover examples of addition, subtraction, multiplication, and division, and demonstrate how Python can be used as a powerful tool for performing these operations efficiently.\n\nLet's dive into some arithmetic examples to strengthen our understanding of these essential mathematical operations.",
      "metadata": {},
      "execution_count": null,
      "outputs": [],
      "id": "2f3dcfa7-8245-498a-9ba6-a1b96c39758e"
    },
    {
      "cell_type": "code",
      "source": "num1 = 5\nnum2 = 3\nresult_multiply = num1 * num2\nresult_add = num1 + num2\nprint( {result_multiply}\")\nprint( {result_add}\")",
      "metadata": {},
      "execution_count": null,
      "outputs": [],
      "id": "c5a55d3d-a6bc-41ea-9d1e-47cb48bb2908"
    },
    {
      "cell_type": "code",
      "source": "minutes = 120\n\nhours = minutes / 60\n\nprint(f\"{minutes} minutes is equal to {hours} hours\")",
      "metadata": {},
      "execution_count": null,
      "outputs": [],
      "id": "5ac6b598-e54e-4187-b629-b434742689bc"
    },
    {
      "cell_type": "code",
      "source": "1. Provide an overview of common data science languages and their applications.\n2. Introduce essential data science libraries and tools for analysis and visualization.\n3. Demonstrate basic arithmetic operations and calculations in Python.\n4. Illustrate the conversion of minutes to hours using Python code.\n5. Offer a reference guide to data science tools commonly used in the field.",
      "metadata": {},
      "execution_count": null,
      "outputs": [],
      "id": "6d1d31b4-0009-49cc-85f8-c346bc085cfe"
    },
    {
      "cell_type": "code",
      "source": "This notebook was created by: **[Trần Tiến Thành]**.",
      "metadata": {},
      "execution_count": null,
      "outputs": [],
      "id": "2551fbf4-be0e-474e-8133-ef7bafeeac4e"
    }
  ]
}